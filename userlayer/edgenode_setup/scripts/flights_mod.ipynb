{
 "cells": [
  {
   "cell_type": "code",
   "execution_count": 1,
   "metadata": {},
   "outputs": [],
   "source": [
    "from pyspark.sql import SparkSession\n",
    "import matplotlib.pyplot as plt; plt.rcdefaults()\n",
    "import numpy as np\n",
    "import matplotlib.pyplot as plt\n",
    "from pyspark.sql import functions as F\n",
    "from pyspark.sql.window import Window\n",
    "import time"
   ]
  },
  {
   "cell_type": "code",
   "execution_count": 2,
   "metadata": {},
   "outputs": [],
   "source": [
    "start = time.time()"
   ]
  },
  {
   "cell_type": "code",
   "execution_count": 3,
   "metadata": {},
   "outputs": [],
   "source": [
    "def plotBarChartUsingMatplotlib(x_city_arrays, y_delay_arrays, xLabel, yLabel, title):\n",
    "    y_pos = np.arange(len(x_city_arrays))\n",
    "    plt.bar(y_pos, y_delay_arrays, align='center', alpha=0.5)\n",
    "    plt.xticks(y_pos, x_city_arrays)\n",
    "    plt.xlabel(xLabel)\n",
    "    plt.ylabel(yLabel)\n",
    "    plt.title(title)\n",
    "    plt.show()"
   ]
  },
  {
   "cell_type": "code",
   "execution_count": 4,
   "metadata": {},
   "outputs": [],
   "source": [
    "airports_df = spark.read.format('csv').option(\"delimiter\", \"\\t\").option(\"header\",\"true\").load(\"hdfs://hdfs_name_node_hostname:9000/inputdata/spark_test_data/airport-codes-na.txt\")"
   ]
  },
  {
   "cell_type": "markdown",
   "metadata": {},
   "source": [
    "#airports_df.select(F.col('City')).show(2)\n",
    "#airports_df.printSchema()\n",
    "airports_df.show(2)\n",
    "c = airports_df.count()\n",
    "print(\"count: \" + str(c))"
   ]
  },
  {
   "cell_type": "code",
   "execution_count": 5,
   "metadata": {},
   "outputs": [],
   "source": [
    "flightPerf_df = spark.read.format('csv').option(\"header\",\"true\").load(\"hdfs://hdfs_name_node_hostname:9000/inputdata/spark_test_data/departuredelays.csv\")"
   ]
  },
  {
   "cell_type": "markdown",
   "metadata": {},
   "source": [
    "flightPerf_df.show(2)\n",
    "c = flightPerf_df.count()\n",
    "print(\"count: \" + str(c))"
   ]
  },
  {
   "cell_type": "code",
   "execution_count": 6,
   "metadata": {
    "scrolled": true
   },
   "outputs": [
    {
     "name": "stdout",
     "output_type": "stream",
     "text": [
      "+--------+-----+--------+------+-----------+-------+-----+-------+----+\n",
      "|    date|delay|distance|origin|destination|   City|State|Country|IATA|\n",
      "+--------+-----+--------+------+-----------+-------+-----+-------+----+\n",
      "|01011345|   34|     194|   GEG|        SEA|Spokane|   WA|    USA| GEG|\n",
      "|01010800|  -10|     194|   GEG|        SEA|Spokane|   WA|    USA| GEG|\n",
      "+--------+-----+--------+------+-----------+-------+-----+-------+----+\n",
      "only showing top 2 rows\n",
      "\n",
      "+-------+------+--------+\n",
      "|   City|origin|  Delays|\n",
      "+-------+------+--------+\n",
      "|Seattle|   SEA|159086.0|\n",
      "|Spokane|   GEG| 12404.0|\n",
      "+-------+------+--------+\n",
      "only showing top 2 rows\n",
      "\n"
     ]
    }
   ],
   "source": [
    "washington_airports_df = airports_df.filter(airports_df.State == 'WA')\n",
    "washington_joined_df = flightPerf_df.join(washington_airports_df, (flightPerf_df.origin == washington_airports_df.IATA))\n",
    "washington_joined_df.show(2)\n",
    "city_window = Window.partitionBy(F.col(\"City\"), F.col(\"origin\"))\n",
    "city_df = washington_joined_df.withColumn(\"Delays\", F.sum(F.col(\"delay\")).over(city_window)).select(F.col(\"City\"),F.col(\"origin\"),F.col(\"Delays\")).distinct().orderBy(\"Delays\", ascending=False)\n",
    "city_df.show(2)"
   ]
  },
  {
   "cell_type": "code",
   "execution_count": 7,
   "metadata": {},
   "outputs": [
    {
     "name": "stdout",
     "output_type": "stream",
     "text": [
      "+--------+-----+--------+------+-----------+---------+-----+-------+----+\n",
      "|    date|delay|distance|origin|destination|     City|State|Country|IATA|\n",
      "+--------+-----+--------+------+-----------+---------+-----+-------+----+\n",
      "|01011245|    6|     602|   ABE|        ATL|Allentown|   PA|    USA| ABE|\n",
      "|01020600|   -8|     369|   ABE|        DTW|Allentown|   PA|    USA| ABE|\n",
      "+--------+-----+--------+------+-----------+---------+-----+-------+----+\n",
      "only showing top 2 rows\n",
      "\n",
      "+-----+---------+\n",
      "|State|   Delays|\n",
      "+-----+---------+\n",
      "|   TX|1994943.0|\n",
      "|   CA|1891919.0|\n",
      "+-----+---------+\n",
      "only showing top 2 rows\n",
      "\n"
     ]
    }
   ],
   "source": [
    "usa_airports_df = airports_df.filter(airports_df.Country == 'USA')\n",
    "usa_joined_df = flightPerf_df.join(usa_airports_df, (flightPerf_df.origin == usa_airports_df.IATA))\n",
    "usa_joined_df.show(2)\n",
    "state_window = Window.partitionBy(F.col(\"State\"))\n",
    "usa_state_df = usa_joined_df.withColumn(\"Delays\", F.sum(F.col(\"delay\")).over(state_window)).select(F.col(\"State\"),F.col(\"Delays\")).distinct().orderBy(\"Delays\", ascending=False)\n",
    "usa_state_df.show(2)"
   ]
  },
  {
   "cell_type": "code",
   "execution_count": 8,
   "metadata": {},
   "outputs": [
    {
     "data": {
      "image/png": "[encoded data removed]",
      "text/plain": [
       "<Figure size 432x288 with 1 Axes>"
      ]
     },
     "metadata": {
      "needs_background": "light"
     },
     "output_type": "display_data"
    }
   ],
   "source": [
    "x_city_arrays = city_df.rdd.map(lambda row: row.City).sample(False, 1.0).collect()\n",
    "y_city_delay_arrays = city_df.rdd.map(lambda row: row.Delays).sample(False, 1.0).collect()\n",
    "plotBarChartUsingMatplotlib(x_city_arrays, y_city_delay_arrays, \"City\", \"Delays\", \"Flight Delays Vs City\")"
   ]
  },
  {
   "cell_type": "code",
   "execution_count": 9,
   "metadata": {},
   "outputs": [
    {
     "data": {
      "image/png": "[encoded data removed]",
      "text/plain": [
       "<Figure size 432x288 with 1 Axes>"
      ]
     },
     "metadata": {
      "needs_background": "light"
     },
     "output_type": "display_data"
    }
   ],
   "source": [
    "x_state_arrays = usa_state_df.rdd.map(lambda row: row.State).sample(False, 1.0).collect()\n",
    "y_state_delay_arrays = usa_state_df.rdd.map(lambda row: row.Delays).sample(False, 1.0).collect()\n",
    "plotBarChartUsingMatplotlib(x_state_arrays, y_state_delay_arrays, \"State\", \"Delays\", \"Flight Delays Vs US States\")"
   ]
  },
  {
   "cell_type": "code",
   "execution_count": 10,
   "metadata": {},
   "outputs": [
    {
     "name": "stdout",
     "output_type": "stream",
     "text": [
      "total time: 48.64138960838318\n"
     ]
    }
   ],
   "source": [
    "end = time.time()\n",
    "elapsed = end - start\n",
    "print(\"total time: \" + str(elapsed))"
   ]
  }
 ],
 "metadata": {
  "kernelspec": {
   "display_name": "Python 3",
   "language": "python",
   "name": "python3"
  },
  "language_info": {
   "codemirror_mode": {
    "name": "ipython",
    "version": 3
   },
   "file_extension": ".py",
   "mimetype": "text/x-python",
   "name": "python",
   "nbconvert_exporter": "python",
   "pygments_lexer": "ipython3",
   "version": "3.7.2"
  }
 },
 "nbformat": 4,
 "nbformat_minor": 2
}
